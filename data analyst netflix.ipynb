{
 "cells": [
  {
   "cell_type": "code",
   "execution_count": 3,
   "metadata": {},
   "outputs": [
    {
     "name": "stdout",
     "output_type": "stream",
     "text": [
      "Collecting kagglehub\n",
      "  Downloading kagglehub-0.3.10-py3-none-any.whl.metadata (31 kB)\n",
      "Requirement already satisfied: packaging in c:\\users\\nprem\\anaconda3\\lib\\site-packages (from kagglehub) (24.1)\n",
      "Requirement already satisfied: pyyaml in c:\\users\\nprem\\anaconda3\\lib\\site-packages (from kagglehub) (6.0.1)\n",
      "Requirement already satisfied: requests in c:\\users\\nprem\\anaconda3\\lib\\site-packages (from kagglehub) (2.32.3)\n",
      "Requirement already satisfied: tqdm in c:\\users\\nprem\\anaconda3\\lib\\site-packages (from kagglehub) (4.66.5)\n",
      "Requirement already satisfied: charset-normalizer<4,>=2 in c:\\users\\nprem\\anaconda3\\lib\\site-packages (from requests->kagglehub) (3.3.2)\n",
      "Requirement already satisfied: idna<4,>=2.5 in c:\\users\\nprem\\anaconda3\\lib\\site-packages (from requests->kagglehub) (3.7)\n",
      "Requirement already satisfied: urllib3<3,>=1.21.1 in c:\\users\\nprem\\anaconda3\\lib\\site-packages (from requests->kagglehub) (2.2.3)\n",
      "Requirement already satisfied: certifi>=2017.4.17 in c:\\users\\nprem\\anaconda3\\lib\\site-packages (from requests->kagglehub) (2024.8.30)\n",
      "Requirement already satisfied: colorama in c:\\users\\nprem\\anaconda3\\lib\\site-packages (from tqdm->kagglehub) (0.4.6)\n",
      "Downloading kagglehub-0.3.10-py3-none-any.whl (63 kB)\n",
      "Installing collected packages: kagglehub\n",
      "Successfully installed kagglehub-0.3.10\n",
      "Note: you may need to restart the kernel to use updated packages.\n"
     ]
    }
   ],
   "source": [
    "pip install kagglehub\n"
   ]
  },
  {
   "cell_type": "code",
   "execution_count": 4,
   "metadata": {},
   "outputs": [
    {
     "name": "stdout",
     "output_type": "stream",
     "text": [
      "Downloading from https://www.kaggle.com/api/v1/datasets/download/samithsachidanandan/netflix-stock-price-2002-2025?dataset_version_number=1...\n"
     ]
    },
    {
     "name": "stderr",
     "output_type": "stream",
     "text": [
      "100%|██████████| 99.6k/99.6k [00:00<00:00, 148kB/s]"
     ]
    },
    {
     "name": "stdout",
     "output_type": "stream",
     "text": [
      "Extracting files...\n",
      "Path to dataset files: C:\\Users\\nprem\\.cache\\kagglehub\\datasets\\samithsachidanandan\\netflix-stock-price-2002-2025\\versions\\1\n"
     ]
    },
    {
     "name": "stderr",
     "output_type": "stream",
     "text": [
      "\n"
     ]
    }
   ],
   "source": [
    "import kagglehub\n",
    "\n",
    "# Download latest version\n",
    "path = kagglehub.dataset_download(\"samithsachidanandan/netflix-stock-price-2002-2025\")\n",
    "\n",
    "print(\"Path to dataset files:\", path)"
   ]
  },
  {
   "cell_type": "code",
   "execution_count": 5,
   "metadata": {},
   "outputs": [
    {
     "data": {
      "text/plain": [
       "'C:\\\\Users\\\\nprem\\\\.cache\\\\kagglehub\\\\datasets\\\\samithsachidanandan\\\\netflix-stock-price-2002-2025\\\\versions\\\\1'"
      ]
     },
     "execution_count": 5,
     "metadata": {},
     "output_type": "execute_result"
    }
   ],
   "source": [
    "path"
   ]
  },
  {
   "cell_type": "code",
   "execution_count": 2,
   "metadata": {},
   "outputs": [
    {
     "name": "stdout",
     "output_type": "stream",
     "text": [
      " Volume in drive C is Windows\n",
      " Volume Serial Number is CA9B-F22D\n",
      "\n",
      " Directory of c:\\Users\\nprem\\OneDrive\\Desktop\\python prem\\vs code\n",
      "\n",
      "28-03-2025  12.35 PM    <DIR>          .\n",
      "14-03-2025  04.25 PM    <DIR>          ..\n",
      "28-03-2025  12.28 PM            62,834 categorical handling qalitaitve.ipynb\n",
      "28-03-2025  12.35 PM             6,102 data analyst netflix.ipynb\n",
      "22-03-2025  10.22 AM            87,083 Data Wrangling(train.csv).ipynb\n",
      "24-03-2025  11.48 AM           152,164 Handled numeric qantitaive data.ipynb\n",
      "22-03-2025  10.23 AM               298 import requests.py\n",
      "08-03-2025  11.12 AM             1,652 import tkinter as tk.py\n",
      "09-03-2025  03.23 PM            48,551 kidney_disease.csv\n",
      "22-03-2025  10.22 AM         2,737,346 ML.ipynb\n",
      "14-03-2025  04.34 PM            57,865 ML2.ipynb\n",
      "28-03-2025  12.33 PM           329,160 Netflix Inc. (NFLX) Stock Price 2002-2025.csv\n",
      "23-03-2025  01.20 PM            12,898 setup  Box.xlsx\n",
      "03-03-2025  01.17 PM             1,284 std_info.csv\n",
      "23-10-2024  11.14 PM           579,972 StudentPerformanceFactors.xlsx\n",
      "14-03-2025  04.32 PM            61,194 train.csv\n",
      "              14 File(s)      4,138,403 bytes\n",
      "               2 Dir(s)  136,995,540,992 bytes free\n"
     ]
    }
   ],
   "source": [
    "ls"
   ]
  },
  {
   "cell_type": "code",
   "execution_count": 4,
   "metadata": {},
   "outputs": [],
   "source": [
    "import numpy as np\n",
    "import pandas as pd\n",
    "df=pd.read_csv('Netflix Inc. (NFLX) Stock Price 2002-2025.csv')"
   ]
  },
  {
   "cell_type": "code",
   "execution_count": 6,
   "metadata": {},
   "outputs": [
    {
     "data": {
      "text/html": [
       "<div>\n",
       "<style scoped>\n",
       "    .dataframe tbody tr th:only-of-type {\n",
       "        vertical-align: middle;\n",
       "    }\n",
       "\n",
       "    .dataframe tbody tr th {\n",
       "        vertical-align: top;\n",
       "    }\n",
       "\n",
       "    .dataframe thead th {\n",
       "        text-align: right;\n",
       "    }\n",
       "</style>\n",
       "<table border=\"1\" class=\"dataframe\">\n",
       "  <thead>\n",
       "    <tr style=\"text-align: right;\">\n",
       "      <th></th>\n",
       "      <th>Date</th>\n",
       "      <th>Open</th>\n",
       "      <th>High</th>\n",
       "      <th>Low</th>\n",
       "      <th>Close</th>\n",
       "      <th>Adj Close</th>\n",
       "      <th>Volume</th>\n",
       "    </tr>\n",
       "  </thead>\n",
       "  <tbody>\n",
       "    <tr>\n",
       "      <th>0</th>\n",
       "      <td>Feb 25, 2025</td>\n",
       "      <td>989.4</td>\n",
       "      <td>994.4</td>\n",
       "      <td>955</td>\n",
       "      <td>977.24</td>\n",
       "      <td>977.24</td>\n",
       "      <td>4,733,000</td>\n",
       "    </tr>\n",
       "    <tr>\n",
       "      <th>1</th>\n",
       "      <td>Feb 24, 2025</td>\n",
       "      <td>1,008.00</td>\n",
       "      <td>1,015.17</td>\n",
       "      <td>984.48</td>\n",
       "      <td>988.47</td>\n",
       "      <td>988.47</td>\n",
       "      <td>4,426,200</td>\n",
       "    </tr>\n",
       "    <tr>\n",
       "      <th>2</th>\n",
       "      <td>Feb 21, 2025</td>\n",
       "      <td>1,029.42</td>\n",
       "      <td>1,032.38</td>\n",
       "      <td>999.39</td>\n",
       "      <td>1,003.15</td>\n",
       "      <td>1,003.15</td>\n",
       "      <td>3,738,700</td>\n",
       "    </tr>\n",
       "    <tr>\n",
       "      <th>3</th>\n",
       "      <td>Feb 20, 2025</td>\n",
       "      <td>1,042.00</td>\n",
       "      <td>1,045.00</td>\n",
       "      <td>1,015.59</td>\n",
       "      <td>1,024.54</td>\n",
       "      <td>1,024.54</td>\n",
       "      <td>3,111,800</td>\n",
       "    </tr>\n",
       "    <tr>\n",
       "      <th>4</th>\n",
       "      <td>Feb 19, 2025</td>\n",
       "      <td>1,035.18</td>\n",
       "      <td>1,045.00</td>\n",
       "      <td>1,024.51</td>\n",
       "      <td>1,043.33</td>\n",
       "      <td>1,043.33</td>\n",
       "      <td>2,600,000</td>\n",
       "    </tr>\n",
       "  </tbody>\n",
       "</table>\n",
       "</div>"
      ],
      "text/plain": [
       "           Date     Open       High       Low     Close Adj Close     Volume\n",
       "0  Feb 25, 2025     989.4     994.4       955    977.24    977.24  4,733,000\n",
       "1  Feb 24, 2025  1,008.00  1,015.17    984.48    988.47    988.47  4,426,200\n",
       "2  Feb 21, 2025  1,029.42  1,032.38    999.39  1,003.15  1,003.15  3,738,700\n",
       "3  Feb 20, 2025  1,042.00  1,045.00  1,015.59  1,024.54  1,024.54  3,111,800\n",
       "4  Feb 19, 2025  1,035.18  1,045.00  1,024.51  1,043.33  1,043.33  2,600,000"
      ]
     },
     "execution_count": 6,
     "metadata": {},
     "output_type": "execute_result"
    }
   ],
   "source": [
    "df.head(5)"
   ]
  },
  {
   "cell_type": "code",
   "execution_count": 17,
   "metadata": {},
   "outputs": [
    {
     "data": {
      "text/plain": [
       "Index(['Date', 'Open ', 'High', 'Low', 'Close', 'Adj Close', 'Volume'], dtype='object')"
      ]
     },
     "execution_count": 17,
     "metadata": {},
     "output_type": "execute_result"
    }
   ],
   "source": [
    "df.columns\n"
   ]
  },
  {
   "cell_type": "code",
   "execution_count": 21,
   "metadata": {},
   "outputs": [
    {
     "data": {
      "text/html": [
       "<div>\n",
       "<style scoped>\n",
       "    .dataframe tbody tr th:only-of-type {\n",
       "        vertical-align: middle;\n",
       "    }\n",
       "\n",
       "    .dataframe tbody tr th {\n",
       "        vertical-align: top;\n",
       "    }\n",
       "\n",
       "    .dataframe thead th {\n",
       "        text-align: right;\n",
       "    }\n",
       "</style>\n",
       "<table border=\"1\" class=\"dataframe\">\n",
       "  <thead>\n",
       "    <tr style=\"text-align: right;\">\n",
       "      <th></th>\n",
       "      <th>Date</th>\n",
       "      <th>Open</th>\n",
       "      <th>High</th>\n",
       "      <th>Low</th>\n",
       "      <th>Close</th>\n",
       "      <th>Adj Close</th>\n",
       "      <th>Volume</th>\n",
       "    </tr>\n",
       "  </thead>\n",
       "  <tbody>\n",
       "    <tr>\n",
       "      <th>count</th>\n",
       "      <td>5729</td>\n",
       "      <td>5729</td>\n",
       "      <td>5727</td>\n",
       "      <td>5727</td>\n",
       "      <td>5727</td>\n",
       "      <td>5727</td>\n",
       "      <td>5727</td>\n",
       "    </tr>\n",
       "    <tr>\n",
       "      <th>unique</th>\n",
       "      <td>5727</td>\n",
       "      <td>4092</td>\n",
       "      <td>4114</td>\n",
       "      <td>4113</td>\n",
       "      <td>4164</td>\n",
       "      <td>4164</td>\n",
       "      <td>5560</td>\n",
       "    </tr>\n",
       "    <tr>\n",
       "      <th>top</th>\n",
       "      <td>Jul 15, 2015</td>\n",
       "      <td>2.86</td>\n",
       "      <td>4.14</td>\n",
       "      <td>1.61</td>\n",
       "      <td>3.96</td>\n",
       "      <td>3.96</td>\n",
       "      <td>14,634,900</td>\n",
       "    </tr>\n",
       "    <tr>\n",
       "      <th>freq</th>\n",
       "      <td>2</td>\n",
       "      <td>14</td>\n",
       "      <td>15</td>\n",
       "      <td>16</td>\n",
       "      <td>14</td>\n",
       "      <td>14</td>\n",
       "      <td>3</td>\n",
       "    </tr>\n",
       "  </tbody>\n",
       "</table>\n",
       "</div>"
      ],
      "text/plain": [
       "                Date Open   High   Low Close Adj Close      Volume\n",
       "count           5729  5729  5727  5727  5727      5727        5727\n",
       "unique          5727  4092  4114  4113  4164      4164        5560\n",
       "top     Jul 15, 2015  2.86  4.14  1.61  3.96      3.96  14,634,900\n",
       "freq               2    14    15    16    14        14           3"
      ]
     },
     "execution_count": 21,
     "metadata": {},
     "output_type": "execute_result"
    }
   ],
   "source": [
    "df.describe()"
   ]
  },
  {
   "cell_type": "code",
   "execution_count": 29,
   "metadata": {},
   "outputs": [
    {
     "data": {
      "text/plain": [
       "Open         5729\n",
       "High         5727\n",
       "Low          5727\n",
       "Close        5727\n",
       "Adj Close    5727\n",
       "Volume       5727\n",
       "dtype: int64"
      ]
     },
     "execution_count": 29,
     "metadata": {},
     "output_type": "execute_result"
    }
   ],
   "source": [
    "df.count()"
   ]
  },
  {
   "cell_type": "code",
   "execution_count": 39,
   "metadata": {},
   "outputs": [
    {
     "data": {
      "text/plain": [
       "Open         0\n",
       "High         2\n",
       "Low          2\n",
       "Close        2\n",
       "Adj Close    2\n",
       "Volume       2\n",
       "dtype: int64"
      ]
     },
     "execution_count": 39,
     "metadata": {},
     "output_type": "execute_result"
    }
   ],
   "source": [
    "df.isnull().sum()"
   ]
  },
  {
   "cell_type": "code",
   "execution_count": 59,
   "metadata": {},
   "outputs": [],
   "source": [
    "if 'Date' in df.columns:\n",
    "    df['Date'] = pd.to_datetime(df['Date'])\n",
    "    df.set_index('Date', inplace=True)\n",
    "else:\n",
    "    print(\"Column 'Date' not found in dataset.\")"
   ]
  },
  {
   "cell_type": "code",
   "execution_count": null,
   "metadata": {},
   "outputs": [],
   "source": []
  },
  {
   "cell_type": "code",
   "execution_count": 57,
   "metadata": {},
   "outputs": [],
   "source": [
    "df = pd.read_csv(\"Netflix Inc. (NFLX) Stock Price 2002-2025.csv\", encoding=\"utf-8\")\n"
   ]
  },
  {
   "cell_type": "code",
   "execution_count": 58,
   "metadata": {},
   "outputs": [
    {
     "data": {
      "text/html": [
       "<div>\n",
       "<style scoped>\n",
       "    .dataframe tbody tr th:only-of-type {\n",
       "        vertical-align: middle;\n",
       "    }\n",
       "\n",
       "    .dataframe tbody tr th {\n",
       "        vertical-align: top;\n",
       "    }\n",
       "\n",
       "    .dataframe thead th {\n",
       "        text-align: right;\n",
       "    }\n",
       "</style>\n",
       "<table border=\"1\" class=\"dataframe\">\n",
       "  <thead>\n",
       "    <tr style=\"text-align: right;\">\n",
       "      <th></th>\n",
       "      <th>Date</th>\n",
       "      <th>Open</th>\n",
       "      <th>High</th>\n",
       "      <th>Low</th>\n",
       "      <th>Close</th>\n",
       "      <th>Adj Close</th>\n",
       "      <th>Volume</th>\n",
       "    </tr>\n",
       "  </thead>\n",
       "  <tbody>\n",
       "    <tr>\n",
       "      <th>0</th>\n",
       "      <td>Feb 25, 2025</td>\n",
       "      <td>989.4</td>\n",
       "      <td>994.4</td>\n",
       "      <td>955</td>\n",
       "      <td>977.24</td>\n",
       "      <td>977.24</td>\n",
       "      <td>4,733,000</td>\n",
       "    </tr>\n",
       "    <tr>\n",
       "      <th>1</th>\n",
       "      <td>Feb 24, 2025</td>\n",
       "      <td>1,008.00</td>\n",
       "      <td>1,015.17</td>\n",
       "      <td>984.48</td>\n",
       "      <td>988.47</td>\n",
       "      <td>988.47</td>\n",
       "      <td>4,426,200</td>\n",
       "    </tr>\n",
       "    <tr>\n",
       "      <th>2</th>\n",
       "      <td>Feb 21, 2025</td>\n",
       "      <td>1,029.42</td>\n",
       "      <td>1,032.38</td>\n",
       "      <td>999.39</td>\n",
       "      <td>1,003.15</td>\n",
       "      <td>1,003.15</td>\n",
       "      <td>3,738,700</td>\n",
       "    </tr>\n",
       "    <tr>\n",
       "      <th>3</th>\n",
       "      <td>Feb 20, 2025</td>\n",
       "      <td>1,042.00</td>\n",
       "      <td>1,045.00</td>\n",
       "      <td>1,015.59</td>\n",
       "      <td>1,024.54</td>\n",
       "      <td>1,024.54</td>\n",
       "      <td>3,111,800</td>\n",
       "    </tr>\n",
       "    <tr>\n",
       "      <th>4</th>\n",
       "      <td>Feb 19, 2025</td>\n",
       "      <td>1,035.18</td>\n",
       "      <td>1,045.00</td>\n",
       "      <td>1,024.51</td>\n",
       "      <td>1,043.33</td>\n",
       "      <td>1,043.33</td>\n",
       "      <td>2,600,000</td>\n",
       "    </tr>\n",
       "    <tr>\n",
       "      <th>...</th>\n",
       "      <td>...</td>\n",
       "      <td>...</td>\n",
       "      <td>...</td>\n",
       "      <td>...</td>\n",
       "      <td>...</td>\n",
       "      <td>...</td>\n",
       "      <td>...</td>\n",
       "    </tr>\n",
       "    <tr>\n",
       "      <th>5724</th>\n",
       "      <td>May 30, 2002</td>\n",
       "      <td>1.11</td>\n",
       "      <td>1.11</td>\n",
       "      <td>1.07</td>\n",
       "      <td>1.07</td>\n",
       "      <td>1.07</td>\n",
       "      <td>10,154,200</td>\n",
       "    </tr>\n",
       "    <tr>\n",
       "      <th>5725</th>\n",
       "      <td>May 29, 2002</td>\n",
       "      <td>1.16</td>\n",
       "      <td>1.16</td>\n",
       "      <td>1.09</td>\n",
       "      <td>1.1</td>\n",
       "      <td>1.1</td>\n",
       "      <td>6,757,800</td>\n",
       "    </tr>\n",
       "    <tr>\n",
       "      <th>5726</th>\n",
       "      <td>May 28, 2002</td>\n",
       "      <td>1.21</td>\n",
       "      <td>1.23</td>\n",
       "      <td>1.16</td>\n",
       "      <td>1.16</td>\n",
       "      <td>1.16</td>\n",
       "      <td>6,609,400</td>\n",
       "    </tr>\n",
       "    <tr>\n",
       "      <th>5727</th>\n",
       "      <td>May 24, 2002</td>\n",
       "      <td>1.21</td>\n",
       "      <td>1.23</td>\n",
       "      <td>1.2</td>\n",
       "      <td>1.21</td>\n",
       "      <td>1.21</td>\n",
       "      <td>11,104,800</td>\n",
       "    </tr>\n",
       "    <tr>\n",
       "      <th>5728</th>\n",
       "      <td>May 23, 2002</td>\n",
       "      <td>1.16</td>\n",
       "      <td>1.24</td>\n",
       "      <td>1.15</td>\n",
       "      <td>1.2</td>\n",
       "      <td>1.2</td>\n",
       "      <td>104,790,000</td>\n",
       "    </tr>\n",
       "  </tbody>\n",
       "</table>\n",
       "<p>5729 rows × 7 columns</p>\n",
       "</div>"
      ],
      "text/plain": [
       "              Date     Open       High       Low     Close Adj Close  \\\n",
       "0     Feb 25, 2025     989.4     994.4       955    977.24    977.24   \n",
       "1     Feb 24, 2025  1,008.00  1,015.17    984.48    988.47    988.47   \n",
       "2     Feb 21, 2025  1,029.42  1,032.38    999.39  1,003.15  1,003.15   \n",
       "3     Feb 20, 2025  1,042.00  1,045.00  1,015.59  1,024.54  1,024.54   \n",
       "4     Feb 19, 2025  1,035.18  1,045.00  1,024.51  1,043.33  1,043.33   \n",
       "...            ...       ...       ...       ...       ...       ...   \n",
       "5724  May 30, 2002      1.11      1.11      1.07      1.07      1.07   \n",
       "5725  May 29, 2002      1.16      1.16      1.09       1.1       1.1   \n",
       "5726  May 28, 2002      1.21      1.23      1.16      1.16      1.16   \n",
       "5727  May 24, 2002      1.21      1.23       1.2      1.21      1.21   \n",
       "5728  May 23, 2002      1.16      1.24      1.15       1.2       1.2   \n",
       "\n",
       "           Volume  \n",
       "0       4,733,000  \n",
       "1       4,426,200  \n",
       "2       3,738,700  \n",
       "3       3,111,800  \n",
       "4       2,600,000  \n",
       "...           ...  \n",
       "5724   10,154,200  \n",
       "5725    6,757,800  \n",
       "5726    6,609,400  \n",
       "5727   11,104,800  \n",
       "5728  104,790,000  \n",
       "\n",
       "[5729 rows x 7 columns]"
      ]
     },
     "execution_count": 58,
     "metadata": {},
     "output_type": "execute_result"
    }
   ],
   "source": [
    "df"
   ]
  },
  {
   "cell_type": "code",
   "execution_count": null,
   "metadata": {},
   "outputs": [],
   "source": []
  }
 ],
 "metadata": {
  "kernelspec": {
   "display_name": "base",
   "language": "python",
   "name": "python3"
  },
  "language_info": {
   "codemirror_mode": {
    "name": "ipython",
    "version": 3
   },
   "file_extension": ".py",
   "mimetype": "text/x-python",
   "name": "python",
   "nbconvert_exporter": "python",
   "pygments_lexer": "ipython3",
   "version": "3.12.7"
  }
 },
 "nbformat": 4,
 "nbformat_minor": 2
}
